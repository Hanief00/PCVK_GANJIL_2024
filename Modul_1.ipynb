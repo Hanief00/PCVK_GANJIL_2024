{
  "nbformat": 4,
  "nbformat_minor": 0,
  "metadata": {
    "colab": {
      "provenance": [],
      "authorship_tag": "ABX9TyNlpf3ySsxuuI/rvJELWSZY",
      "include_colab_link": true
    },
    "kernelspec": {
      "name": "python3",
      "display_name": "Python 3"
    },
    "language_info": {
      "name": "python"
    }
  },
  "cells": [
    {
      "cell_type": "markdown",
      "metadata": {
        "id": "view-in-github",
        "colab_type": "text"
      },
      "source": [
        "<a href=\"https://colab.research.google.com/github/Hanief00/PCVK_GANJIL_2024/blob/main/Modul_1.ipynb\" target=\"_parent\"><img src=\"https://colab.research.google.com/assets/colab-badge.svg\" alt=\"Open In Colab\"/></a>"
      ]
    },
    {
      "cell_type": "code",
      "execution_count": null,
      "metadata": {
        "id": "nmF6HhDtJuga"
      },
      "outputs": [],
      "source": []
    },
    {
      "cell_type": "markdown",
      "source": [
        "* langkah pertama menggunakan beberapa library"
      ],
      "metadata": {
        "id": "WOxFtKCAX9bW"
      }
    },
    {
      "cell_type": "code",
      "execution_count": null,
      "metadata": {
        "id": "VoAEP3VEWrXT"
      },
      "outputs": [],
      "source": [
        "import numpy as np\n",
        "import pandas as pd\n",
        "import cv2 as cv\n",
        "from google.colab.patches import cv2_imshow # for image display\n",
        "from skimage import io\n",
        "from skimage import transform\n",
        "from PIL import Image\n",
        "import matplotlib.pylab as plt"
      ]
    },
    {
      "cell_type": "markdown",
      "source": [
        "* langkah kedua membaca dan menampilkan image"
      ],
      "metadata": {
        "id": "ZyJeNwxNvZO4"
      }
    },
    {
      "cell_type": "code",
      "source": [
        "# membuat list untuk menyimpan url dari beberapa image\n",
        "urls = [\"https://iiif.lib.ncsu.edu/iiif/0052574/full/800,/0/default.jpg\",\n",
        "      \"https://iiif.lib.ncsu.edu/iiif/0016007/full/800,/0/default.jpg\",\n",
        "      \"https://github.com/Hanief00/PCVK_GANJIL_2024/blob/main/peakpx.jpg\"]\n",
        "\n",
        "#baca dan tampilkan image\n",
        "#loop pada tiap url image, beberapa image dapat disimpan pada list\n",
        "\n",
        "for url in urls:\n",
        "  image = io.imread(url) #read image\n",
        "  image = cv.resize(image, (0,0), fx=0.5, fy=0.5) #resize image to half size\n",
        "  image_2 = cv.cvtColor(image, cv.COLOR_BGR2RGB) #convert color to RGB\n",
        "  final_frame = cv.hconcat((image, image_2)) #concatenate image\n",
        "  cv2_imshow(final_frame) #show image\n",
        "  print('\\n')\n"
      ],
      "metadata": {
        "id": "3ykT2flDvdM8"
      },
      "execution_count": null,
      "outputs": []
    }
  ]
}